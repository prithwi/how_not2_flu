{
 "cells": [
  {
   "cell_type": "code",
   "execution_count": 2,
   "metadata": {
    "collapsed": true
   },
   "outputs": [],
   "source": [
    "%load_ext autoreload"
   ]
  },
  {
   "cell_type": "code",
   "execution_count": 62,
   "metadata": {
    "collapsed": false
   },
   "outputs": [],
   "source": [
    "%autoreload 2\n",
    "\n",
    "import pandas as pd\n",
    "from datetime import datetime, date, timedelta\n",
    "import ewdate"
   ]
  },
  {
   "cell_type": "code",
   "execution_count": 101,
   "metadata": {
    "collapsed": false
   },
   "outputs": [],
   "source": [
    "# Test Objects\n",
    "test_date = date(2014, 1, 1)\n",
    "test_datetime = datetime(2010, 1, 1)\n",
    "test_pd_Timestamp = pd.Timestamp('2008-01-01')\n",
    "test_string = '2008-01-01'\n",
    "\n",
    "test_ew_str = '2013-52'\n",
    "test_ew_tuple = (2013, 52)"
   ]
  },
  {
   "cell_type": "code",
   "execution_count": 94,
   "metadata": {
    "collapsed": false
   },
   "outputs": [],
   "source": [
    "# Conversion tests\n",
    "\n",
    "assert ewdate.EwDateConverter.first_ew_sunday(2010) == date(2010, 1, 3)\n",
    "assert ewdate.EwDateConverter.first_ew_sunday(2008) == date(2007, 12, 30)\n",
    "\n",
    "assert ewdate.EwDateConverter.convertToDate(test_ew_tuple) == date(2013, 12, 22)\n",
    "assert ewdate.EwDateConverter.convertToEw(test_date) == (2014, 1)"
   ]
  },
  {
   "cell_type": "code",
   "execution_count": 104,
   "metadata": {
    "collapsed": false
   },
   "outputs": [],
   "source": [
    "# EwDate tests\n",
    "\n",
    "## Initializations\n",
    "empty_ewdate = ewdate.EwDate(act_date=1)\n",
    "assert (empty_ewdate.date is None and empty_ewdate.eweek is None)\n",
    "\n",
    "first_ewDate = ewdate.EwDate(fmt='date', s=test_date)\n",
    "assert (first_ewDate.eweek == (2014, 1) and \n",
    "        first_ewDate.date == date(2013, 12, 29))\n",
    "\n",
    "second_ewDate = ewdate.EwDate(fmt='date', s=test_datetime)\n",
    "assert (second_ewDate.eweek == (2009, 52) and\n",
    "        second_ewDate.date == date(2009, 12, 27))\n",
    "\n",
    "third_ewDate = ewdate.EwDate(fmt='date', s=test_pd_Timestamp)\n",
    "assert (third_ewDate.eweek == (2008, 1) and\n",
    "        third_ewDate.date == date(2007, 12, 30))\n",
    "\n",
    "another_third_ewDate = ewdate.EwDate(fmt='date', s=test_string)\n",
    "assert another_third_ewDate == third_ewDate\n",
    "\n",
    "fourth_ewDate = ewdate.EwDate(fmt='week', s=test_ew_str)\n",
    "assert (fourth_ewDate.eweek == (2013, 52) and\n",
    "        fourth_ewDate.date == date(2013, 12, 22))\n",
    "\n",
    "fifth_ewDate = ewdate.EwDate(fmt='week', s=test_ew_tuple)\n",
    "assert fifth_ewDate == fourth_ewDate"
   ]
  },
  {
   "cell_type": "code",
   "execution_count": 72,
   "metadata": {
    "collapsed": false
   },
   "outputs": [],
   "source": [
    "# EwDate tests\n",
    "# Assertion tests\n",
    "assert first_ewDate > second_ewDate\n",
    "assert third_ewDate < second_ewDate\n",
    "assert fourth_ewDate == fifth_ewDate\n",
    "\n",
    "assert fourth_ewDate <= fifth_ewDate\n",
    "assert fourth_ewDate != first_ewDate\n",
    "\n",
    "assert fourth_ewDate >= second_ewDate"
   ]
  },
  {
   "cell_type": "code",
   "execution_count": 105,
   "metadata": {
    "collapsed": false
   },
   "outputs": [
    {
     "name": "stdout",
     "output_type": "stream",
     "text": [
      "EwDate(act_date=2014-01-01, date=2013-12-29, eweek=(2014, 1))\n",
      "EwDate(act_date=2013-12-22, date=2013-12-22, eweek=(2013, 52))\n",
      "7 days, 0:00:00\n",
      "EwDate(act_date=None, date=2013-12-29, eweek=(2014, 1))\n"
     ]
    }
   ],
   "source": [
    "# EwDate tests\n",
    "# Comaprison tests\n",
    "\n",
    "assert (first_ewDate - fifth_ewDate).days == 7\n",
    "assert (fifth_ewDate + timedelta(days=7)) == first_ewDate\n",
    "assert (first_ewDate + timedelta(days=-7)) == fifth_ewDate\n",
    "\n",
    "print first_ewDate\n",
    "print fifth_ewDate\n",
    "print first_ewDate - fifth_ewDate\n",
    "print fifth_ewDate + timedelta(days=7)"
   ]
  },
  {
   "cell_type": "code",
   "execution_count": 85,
   "metadata": {
    "collapsed": false
   },
   "outputs": [
    {
     "name": "stdout",
     "output_type": "stream",
     "text": [
      "before \t>>  2013-12-29 (2014, 1)\n",
      "after 1\t>>  2009-12-27 (2009, 52) (2009, 52)\n",
      "after 2\t>>  2008-12-28 (2008, 53) 2008-12-28\n",
      "2008-12-31\n"
     ]
    }
   ],
   "source": [
    "# EwDate testing linked properties\n",
    "first_ewDate = ewdate.EwDate(fmt='date', s=test_date)\n",
    "print \"before \\t>> \", first_ewDate.date, first_ewDate.eweek\n",
    "\n",
    "first_ewDate.date = second_ewDate.date\n",
    "print \"after 1\\t>> \", first_ewDate.date, first_ewDate.eweek, second_ewDate.eweek\n",
    "\n",
    "first_ewDate.eweek = third_ewDate.eweek\n",
    "print \"after 2\\t>> \", first_ewDate.date, first_ewDate.eweek, third_ewDate.date\n",
    "\n",
    "print first_ewDate.rep_date"
   ]
  }
 ],
 "metadata": {
  "kernelspec": {
   "display_name": "Python 2",
   "language": "python",
   "name": "python2"
  },
  "language_info": {
   "codemirror_mode": {
    "name": "ipython",
    "version": 2
   },
   "file_extension": ".py",
   "mimetype": "text/x-python",
   "name": "python",
   "nbconvert_exporter": "python",
   "pygments_lexer": "ipython2",
   "version": "2.7.6"
  }
 },
 "nbformat": 4,
 "nbformat_minor": 0
}
