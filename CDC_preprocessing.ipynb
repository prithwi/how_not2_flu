{
 "cells": [
  {
   "cell_type": "markdown",
   "metadata": {},
   "source": [
    "# CDC_Preprocessing\n",
    "\n",
    "Notebook to show the cdc preprocessing routines. The preprocessing is shown only for `national` region. However it is easily transferrable to \n",
    "other regions\n",
    "\n",
    "**TABLE OF CONTENTS**\n",
    "\n",
    "1. [Reading Raw Data](#Reading-Raw-Data)\n",
    "2. [Scaling and Merging WHO_NREVSS/ILINet data](#Merging)\n",
    "3. [Saving preprocessed data](#Saving)\n",
    "4. [Historical CDC data](#Historical-CDC)"
   ]
  },
  {
   "cell_type": "code",
   "execution_count": 1,
   "metadata": {
    "collapsed": true
   },
   "outputs": [],
   "source": [
    "from codes.ewdate import EwDateConverter\n",
    "\n",
    "import pandas as pd\n",
    "import numpy as np"
   ]
  },
  {
   "cell_type": "code",
   "execution_count": 2,
   "metadata": {
    "collapsed": false
   },
   "outputs": [
    {
     "data": {
      "text/plain": [
       "'0.16.2'"
      ]
     },
     "execution_count": 2,
     "metadata": {},
     "output_type": "execute_result"
    }
   ],
   "source": [
    "pd.__version__"
   ]
  },
  {
   "cell_type": "markdown",
   "metadata": {},
   "source": [
    "# Reading Raw Data"
   ]
  },
  {
   "cell_type": "code",
   "execution_count": null,
   "metadata": {
    "collapsed": true
   },
   "outputs": [],
   "source": [
    "ilinet = './data/cdc-ILINet-national-2015-05-25.csv'\n",
    "whonrevss = './data/cdc-WHO_NREVSS-national-2015-05-25.csv'"
   ]
  },
  {
   "cell_type": "code",
   "execution_count": null,
   "metadata": {
    "collapsed": false
   },
   "outputs": [],
   "source": [
    "to_date = EwDateConverter.convertToDate\n",
    "\n",
    "# *****************************\n",
    "# ILINet data\n",
    "# *****************************\n",
    "cdc_net = pd.read_csv(ilinet, skiprows=1)\n",
    "cdc_net['date'] = pd.to_datetime(cdc_net[['YEAR', 'WEEK']]\n",
    "                                 .apply(to_date, axis=1))\n",
    "cdc_net.set_index('date', inplace=True)\n",
    "\n",
    "# *****************************\n",
    "# WHO_NREVSS data\n",
    "# *****************************\n",
    "cdc_who = pd.read_csv(whonrevss,  na_values=['X', 'N/A', '', None], \n",
    "                      na_fvalues=np.NAN)\n",
    "cdc_who['date'] = pd.to_datetime(cdc_who[['YEAR', 'WEEK']]\n",
    "                                 .apply(to_date, axis=1))\n",
    "cdc_who.set_index('date', inplace=True)\n",
    "FLUA = [u'A (H1)', u'A (Unable to Subtype)', \n",
    "        u'A (H3)', u'A (Subtyping not Performed)']\n",
    "# type conversions and calculation of flu A\n",
    "cdc_who[FLUA + ['B']].astype(float, inplace=True)\n",
    "cdc_who['FLUA'] = cdc_who[FLUA].sum(axis=1)"
   ]
  },
  {
   "cell_type": "markdown",
   "metadata": {},
   "source": [
    "## Merging\n",
    "\n",
    "Merges `ILINet` and `WHO_NREVSS` data. Also calculates strain percentages scaled to ILINet using WHO_NREVSS data"
   ]
  },
  {
   "cell_type": "code",
   "execution_count": null,
   "metadata": {
    "collapsed": true
   },
   "outputs": [],
   "source": [
    "# **************************************************************\n",
    "#                   MANIPULATORS\n",
    "# **************************************************************\n",
    "# Get ratios\n",
    "def get_ratios(X, col1='FLUA', col2='B', epsilon=1, suffix='_per'):\n",
    "    \"\"\" lambda funtion to get ratios of col1 and col2 as percentage.\n",
    "    \"\"\"\n",
    "    denom = X[col1] + X[col2] + epsilon\n",
    "    num1 = ((X[col1] + epsilon)/ denom).fillna(0)\n",
    "    num2 = ((X[col2] + epsilon)/ denom).fillna(0)\n",
    "    return pd.DataFrame({col1+suffix: num1,\n",
    "                         col2+suffix: num2})\n",
    "\n",
    "\n",
    "# Get ILINET values\n",
    "def get_values(X):\n",
    "    \"\"\" lambda funtion to get ILINET VALUES\n",
    "    \"\"\"\n",
    "    \n",
    "    return (np.round(X['FLUA_per'] * X['ILITOTAL']),\n",
    "            np.round(X['B_per'] * X['ILITOTAL']))"
   ]
  },
  {
   "cell_type": "code",
   "execution_count": null,
   "metadata": {
    "collapsed": true
   },
   "outputs": [],
   "source": [
    "# ***************************************************************\n",
    "#                   Scaling of WHO data to ILINet Scale\n",
    "# ***************************************************************\n",
    "combined_who_columns = [u'PERCENT POSITIVE', u'B',\n",
    "                        u'FLUA', u'FLUA_per', u'B_per']\n",
    "# calculating ratios of strains\n",
    "cdc_who[['FLUA_per', 'B_per']] = (get_ratios(cdc_who, epsilon=0)\n",
    "                                  [['FLUA_per', 'B_per']])\n",
    "# merging frames\n",
    "combined_df = (cdc_net.join(cdc_who[combined_who_columns]))['2004':]\n",
    "# Scaling ILINet according to strain ratios\n",
    "combined_df['ILI_FLUA'], combined_df['ILI_FLUB'] = zip(*combined_df.apply(get_values, axis=1)) "
   ]
  },
  {
   "cell_type": "code",
   "execution_count": null,
   "metadata": {
    "collapsed": false,
    "scrolled": true
   },
   "outputs": [],
   "source": [
    "combined_df.ix[0]"
   ]
  },
  {
   "cell_type": "markdown",
   "metadata": {},
   "source": [
    "# Season weeks\n",
    "\n",
    "computing season weeks according to CDC definition\n",
    "\n",
    "> Season starts from EW $= 40$ and ends at EW $=39$"
   ]
  },
  {
   "cell_type": "code",
   "execution_count": null,
   "metadata": {
    "collapsed": true
   },
   "outputs": [],
   "source": [
    "def find_season(row):\n",
    "    \"\"\"Function to find seasons and corresponding epi weeks.\n",
    "    \n",
    "    TODO: Expand to class\n",
    "    \"\"\"\n",
    "    year = row['YEAR']\n",
    "    ew = row['WEEK']\n",
    "    try:\n",
    "        if row['WEEK'] >= 40:\n",
    "            season = year + 1\n",
    "            season_week = ew - 40 + 1\n",
    "        else:\n",
    "            season = year\n",
    "            season_week = (to_date((year, ew)) \n",
    "                           -to_date((year - 1, 40))).days / 7\n",
    "    except Exception as e:\n",
    "        print row\n",
    "        raise Exception(e)\n",
    "    return season, season_week   "
   ]
  },
  {
   "cell_type": "code",
   "execution_count": null,
   "metadata": {
    "collapsed": true
   },
   "outputs": [],
   "source": [
    "combined_df['season'], combined_df['season_week'] = zip(*combined_df.apply(find_season, axis=1))"
   ]
  },
  {
   "cell_type": "markdown",
   "metadata": {},
   "source": [
    "# Saving"
   ]
  },
  {
   "cell_type": "code",
   "execution_count": null,
   "metadata": {
    "collapsed": true
   },
   "outputs": [],
   "source": [
    "combined_df.to_csv('./data/cdc-combined-national-2015-05-25.csv')"
   ]
  },
  {
   "cell_type": "markdown",
   "metadata": {},
   "source": [
    "# Historical CDC\n",
    "\n",
    "**CDC historical data : ** Read the data and append date and date_reported."
   ]
  },
  {
   "cell_type": "code",
   "execution_count": 10,
   "metadata": {
    "collapsed": true
   },
   "outputs": [],
   "source": [
    "def find_date(row, season_name='season', week_name='Week'):\n",
    "    \"\"\"Function to find date/year from season and calendar Week.\n",
    "    \n",
    "    TODO: Expand to class\n",
    "    \"\"\"\n",
    "    season = np.int(row[season_name])\n",
    "    week = np.int(row[week_name])\n",
    "    try:\n",
    "        if week >= 40:\n",
    "            year = season - 1\n",
    "            season_week = week - 40 + 1\n",
    "        else:\n",
    "            year = season\n",
    "            season_week = (EwDateConverter.convertToDate((year, week)) \n",
    "                           - EwDateConverter.convertToDate((year - 1, 40))).days // 7\n",
    "            \n",
    "        dt = EwDateConverter.convertToDate((year, week))\n",
    "    except Exception as e:\n",
    "        print row\n",
    "        raise Exception(e)\n",
    "    return dt, season_week    "
   ]
  },
  {
   "cell_type": "code",
   "execution_count": 11,
   "metadata": {
    "collapsed": false
   },
   "outputs": [],
   "source": [
    "historical_cdc = pd.read_csv('./data/cdc-historical-2010-2015.csv', \n",
    "                             na_values=['x'], \n",
    "                             dtype={'season': np.int, 'Week': np.int,\n",
    "                                   'week_reported': np.int})\n",
    "\n",
    "\n",
    "historical_cdc['date'], historical_cdc['date_week'] = zip(*historical_cdc.apply(find_date, axis=1))\n",
    "\n",
    "get_reported_date = lambda x: find_date(x, week_name='week_reported')\n",
    "historical_cdc['date_reported'], \\\n",
    "  historical_cdc['date_reported_week'] = zip(*historical_cdc.apply(get_reported_date,\n",
    "                                                                                                  axis=1))\n",
    "historical_cdc.sort(['date', 'date_reported']).to_csv('./data/cdc-historical-2010-2015.csv', index=False)"
   ]
  },
  {
   "cell_type": "code",
   "execution_count": 12,
   "metadata": {
    "collapsed": false
   },
   "outputs": [
    {
     "data": {
      "text/html": [
       "<div>\n",
       "<table border=\"1\" class=\"dataframe\">\n",
       "  <thead>\n",
       "    <tr style=\"text-align: right;\">\n",
       "      <th></th>\n",
       "      <th>week_reported</th>\n",
       "      <th>season</th>\n",
       "      <th>Week</th>\n",
       "      <th>age0to4</th>\n",
       "      <th>age5to24</th>\n",
       "      <th>age25to49</th>\n",
       "      <th>age50to64</th>\n",
       "      <th>age64plus</th>\n",
       "      <th>TotalILI</th>\n",
       "      <th>TotalPatients</th>\n",
       "      <th>UnweightedILI</th>\n",
       "      <th>WeightedILI</th>\n",
       "      <th>date</th>\n",
       "      <th>date_week</th>\n",
       "      <th>date_reported</th>\n",
       "      <th>date_reported_week</th>\n",
       "    </tr>\n",
       "  </thead>\n",
       "  <tbody>\n",
       "    <tr>\n",
       "      <th>0</th>\n",
       "      <td>40</td>\n",
       "      <td>2010</td>\n",
       "      <td>40</td>\n",
       "      <td>6654</td>\n",
       "      <td>19270</td>\n",
       "      <td>5715</td>\n",
       "      <td>1417</td>\n",
       "      <td>620</td>\n",
       "      <td>33676</td>\n",
       "      <td>587010</td>\n",
       "      <td>5.737</td>\n",
       "      <td>6.055</td>\n",
       "      <td>2009-10-04</td>\n",
       "      <td>1</td>\n",
       "      <td>2009-10-04</td>\n",
       "      <td>1</td>\n",
       "    </tr>\n",
       "    <tr>\n",
       "      <th>1</th>\n",
       "      <td>41</td>\n",
       "      <td>2010</td>\n",
       "      <td>40</td>\n",
       "      <td>7799</td>\n",
       "      <td>23062</td>\n",
       "      <td>NaN</td>\n",
       "      <td>6991</td>\n",
       "      <td>1882</td>\n",
       "      <td>756</td>\n",
       "      <td>40490</td>\n",
       "      <td>699438.000</td>\n",
       "      <td>5.789</td>\n",
       "      <td>2009-10-04</td>\n",
       "      <td>1</td>\n",
       "      <td>2009-10-11</td>\n",
       "      <td>2</td>\n",
       "    </tr>\n",
       "    <tr>\n",
       "      <th>2</th>\n",
       "      <td>41</td>\n",
       "      <td>2010</td>\n",
       "      <td>41</td>\n",
       "      <td>8225</td>\n",
       "      <td>23938</td>\n",
       "      <td>NaN</td>\n",
       "      <td>7673</td>\n",
       "      <td>2004</td>\n",
       "      <td>719</td>\n",
       "      <td>42559</td>\n",
       "      <td>627079.000</td>\n",
       "      <td>6.787</td>\n",
       "      <td>2009-10-11</td>\n",
       "      <td>2</td>\n",
       "      <td>2009-10-11</td>\n",
       "      <td>2</td>\n",
       "    </tr>\n",
       "    <tr>\n",
       "      <th>3</th>\n",
       "      <td>42</td>\n",
       "      <td>2010</td>\n",
       "      <td>40</td>\n",
       "      <td>8163</td>\n",
       "      <td>24065</td>\n",
       "      <td>NaN</td>\n",
       "      <td>7368</td>\n",
       "      <td>1962</td>\n",
       "      <td>795</td>\n",
       "      <td>42353</td>\n",
       "      <td>736552.000</td>\n",
       "      <td>5.750</td>\n",
       "      <td>2009-10-04</td>\n",
       "      <td>1</td>\n",
       "      <td>2009-10-18</td>\n",
       "      <td>3</td>\n",
       "    </tr>\n",
       "    <tr>\n",
       "      <th>4</th>\n",
       "      <td>42</td>\n",
       "      <td>2010</td>\n",
       "      <td>41</td>\n",
       "      <td>9848</td>\n",
       "      <td>27678</td>\n",
       "      <td>NaN</td>\n",
       "      <td>8730</td>\n",
       "      <td>2356</td>\n",
       "      <td>915</td>\n",
       "      <td>49527</td>\n",
       "      <td>725565.000</td>\n",
       "      <td>6.826</td>\n",
       "      <td>2009-10-11</td>\n",
       "      <td>2</td>\n",
       "      <td>2009-10-18</td>\n",
       "      <td>3</td>\n",
       "    </tr>\n",
       "  </tbody>\n",
       "</table>\n",
       "</div>"
      ],
      "text/plain": [
       "   week_reported  season  Week  age0to4  age5to24  age25to49  age50to64  \\\n",
       "0             40    2010    40     6654     19270       5715       1417   \n",
       "1             41    2010    40     7799     23062        NaN       6991   \n",
       "2             41    2010    41     8225     23938        NaN       7673   \n",
       "3             42    2010    40     8163     24065        NaN       7368   \n",
       "4             42    2010    41     9848     27678        NaN       8730   \n",
       "\n",
       "   age64plus  TotalILI  TotalPatients  UnweightedILI  WeightedILI        date  \\\n",
       "0        620     33676         587010          5.737        6.055  2009-10-04   \n",
       "1       1882       756          40490     699438.000        5.789  2009-10-04   \n",
       "2       2004       719          42559     627079.000        6.787  2009-10-11   \n",
       "3       1962       795          42353     736552.000        5.750  2009-10-04   \n",
       "4       2356       915          49527     725565.000        6.826  2009-10-11   \n",
       "\n",
       "   date_week date_reported  date_reported_week  \n",
       "0          1    2009-10-04                   1  \n",
       "1          1    2009-10-11                   2  \n",
       "2          2    2009-10-11                   2  \n",
       "3          1    2009-10-18                   3  \n",
       "4          2    2009-10-18                   3  "
      ]
     },
     "execution_count": 12,
     "metadata": {},
     "output_type": "execute_result"
    }
   ],
   "source": [
    "historical_cdc.head()"
   ]
  },
  {
   "cell_type": "code",
   "execution_count": null,
   "metadata": {
    "collapsed": false
   },
   "outputs": [],
   "source": [
    "%debug"
   ]
  },
  {
   "cell_type": "code",
   "execution_count": null,
   "metadata": {
    "collapsed": false
   },
   "outputs": [],
   "source": [
    "!head -30 ./data/cdc-historical-2010-2015.csv"
   ]
  }
 ],
 "metadata": {
  "kernelspec": {
   "display_name": "Python 2",
   "language": "python",
   "name": "python2"
  },
  "language_info": {
   "codemirror_mode": {
    "name": "ipython",
    "version": 2
   },
   "file_extension": ".py",
   "mimetype": "text/x-python",
   "name": "python",
   "nbconvert_exporter": "python",
   "pygments_lexer": "ipython2",
   "version": "2.7.6"
  }
 },
 "nbformat": 4,
 "nbformat_minor": 0
}
